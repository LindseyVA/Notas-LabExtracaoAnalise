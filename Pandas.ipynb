{
 "cells": [
  {
   "cell_type": "markdown",
   "metadata": {},
   "source": [
    "# Pandas "
   ]
  },
  {
   "cell_type": "code",
   "execution_count": 1,
   "metadata": {},
   "outputs": [],
   "source": [
    "import pandas as pd\n",
    "from typing import List, Dict"
   ]
  },
  {
   "cell_type": "markdown",
   "metadata": {},
   "source": [
    "### 1) \n",
    "Escreva uma solução que crie um dataframe de uma lista com duas dimensões chamada \"dados_turma\". Essa lista contém os IDs e as idades de cada aluno. O dataframe deve ter 2 colunas, uma chamada \"ID\" e outra chamada \"Idade\", e estar na mesma ordem que a lista \"dados_turma\". O formato resultante seguirá o exemplo:\n",
    "\n",
    "> Input:\n",
    "```\n",
    "dados_turma: [[1, 18], [2, 19], [3, 21], [4, 20], [5, 20]]\n",
    "```\n",
    "\n",
    "> Output:\n",
    "\n",
    "| ID   | IDADE |\n",
    "|------|-------|\n",
    "| 1    | 18    |\n",
    "| 2    | 19    |\n",
    "| 3    | 21    |\n",
    "| 4    | 20    |\n",
    "| 5    | 20    |\n",
    "\n",
    "\n",
    "> Resolução:"
   ]
  },
  {
   "cell_type": "code",
   "execution_count": 2,
   "metadata": {},
   "outputs": [],
   "source": [
    "def cria_dataframe(dados_turma: List[List[int]]) -> pd.DataFrame:\n",
    "    ### RESOLVER A PARTIR DAQUI\n",
    "    id = [i[0] for i in dados_turma]\n",
    "    idade = [i[1] for i in dados_turma]\n",
    "    df = pd.DataFrame({\"ID\": id, \"IDADE\":idade})\n",
    "    return df"
   ]
  },
  {
   "cell_type": "markdown",
   "metadata": {},
   "source": [
    "> Teste:"
   ]
  },
  {
   "cell_type": "code",
   "execution_count": 3,
   "metadata": {},
   "outputs": [
    {
     "name": "stdout",
     "output_type": "stream",
     "text": [
      "   ID  IDADE\n",
      "0   1     18\n",
      "1   2     19\n",
      "2   3     21\n",
      "3   4     20\n",
      "4   5     20\n",
      "5   6     34\n",
      "6   7     21\n"
     ]
    }
   ],
   "source": [
    "# NÃO ALTERAR, APENAS EXECUTAR O CÓDIGO.\n",
    "\n",
    "dados_turma = [[1, 18], [2, 19], [3, 21], [4, 20], [5, 20], [6, 34], [7, 21]]\n",
    "print(cria_dataframe(dados_turma))"
   ]
  },
  {
   "cell_type": "markdown",
   "metadata": {},
   "source": [
    "### 2) \n",
    "Escreva uma solução para calcular e mostrar o número de linhas e colunas de um dataframe, em um formato de lista. Retorne o resultado da seguinte forma:\n",
    "\n",
    "```\n",
    "[linhas, colunas]\n",
    "```\n",
    "\n",
    "> Input:\n",
    "\n",
    "| ID   | IDADE |\n",
    "|------|-------:|\n",
    "| 1    | 18    |\n",
    "| 2    | 19    |\n",
    "| 3    | 21    |\n",
    "| 4    | 20    |\n",
    "| 5    | 20    |\n",
    "\n",
    "\n",
    "> Output:\n",
    "```\n",
    "[5, 2]\n",
    "```\n",
    "\n",
    "> Resolução:"
   ]
  },
  {
   "cell_type": "code",
   "execution_count": 6,
   "metadata": {},
   "outputs": [],
   "source": [
    "def dimensoes_df(df: pd.DataFrame) -> List[int]:\n",
    "    ### RESOLVER A PARTIR DAQUI\n",
    "    colunas = len(df.columns)\n",
    "    linhas = len(df)\n",
    "    return [linhas, colunas]\n"
   ]
  },
  {
   "cell_type": "markdown",
   "metadata": {},
   "source": [
    "> Teste:"
   ]
  },
  {
   "cell_type": "code",
   "execution_count": 7,
   "metadata": {},
   "outputs": [
    {
     "name": "stdout",
     "output_type": "stream",
     "text": [
      "[2003, 5]\n"
     ]
    }
   ],
   "source": [
    "# NÃO ALTERAR, APENAS EXECUTAR O CÓDIGO.\n",
    "\n",
    "df = pd.read_excel('clientes.xlsx')\n",
    "print(dimensoes_df(df))"
   ]
  },
  {
   "cell_type": "markdown",
   "metadata": {},
   "source": [
    "### 3)\n",
    "Escreva uma solução que retorne as primeiras duas linhas e as últimas 3 linhas de um dataframe. O resultado deve ser um dataframe com as linhas na mesma ordem em que aparecem no dataframe original.\n",
    "\n",
    "> Input:\n",
    "\n",
    "\n",
    "| ID   | IDADE |\n",
    "|------|-------|\n",
    "| 1    | 18    |\n",
    "| 2    | 19    |\n",
    "| 3    | 21    |\n",
    "| 4    | 20    |\n",
    "| 5    | 20    |\n",
    "| 6    | 22    |\n",
    "| 7    | 23    |\n",
    "| 8    | 24    |\n",
    "\n",
    "\n",
    "> Output:\n",
    "\n",
    "| ID   | IDADE |\n",
    "|------|-------|\n",
    "| 1    | 18    |\n",
    "| 2    | 19    |\n",
    "| 6    | 22    |\n",
    "| 7    | 23    |\n",
    "| 8    | 24    |\n",
    "\n",
    "\n",
    "> Resolução:"
   ]
  },
  {
   "cell_type": "code",
   "execution_count": 35,
   "metadata": {},
   "outputs": [],
   "source": [
    "df = pd.read_excel('clientes.xlsx')\n",
    "\n",
    "def primeiras_linhas_ultimas_linhas(df: pd.DataFrame) -> pd.DataFrame:\n",
    "    ### RESOLVER A PARTIR DAQUI\n",
    "    df1 = df.head(2)\n",
    "    df2 = df.tail(3)\n",
    "    return pd.concat([df1,df2])"
   ]
  },
  {
   "cell_type": "markdown",
   "metadata": {},
   "source": [
    "> Teste:"
   ]
  },
  {
   "cell_type": "code",
   "execution_count": 36,
   "metadata": {},
   "outputs": [
    {
     "name": "stdout",
     "output_type": "stream",
     "text": [
      "      Idade     Gênero  Renda_Mensal            Educação  Compras_Anuais\n",
      "0        41   Feminino          8690  Ensino Fundamental              34\n",
      "1        62  Masculino          8024     Ensino Superior              48\n",
      "2000     27   Feminino         14664       Pós-Graduação              20\n",
      "2001     27   Feminino         13913  Ensino Fundamental              20\n",
      "2002     27  Masculino         14344     Ensino Superior              20\n"
     ]
    }
   ],
   "source": [
    "# NÃO ALTERAR, APENAS EXECUTAR O CÓDIGO.\n",
    "\n",
    "df = pd.read_excel('clientes.xlsx')\n",
    "print(primeiras_linhas_ultimas_linhas(df))"
   ]
  },
  {
   "cell_type": "markdown",
   "metadata": {},
   "source": [
    "### 4)\n",
    "\n",
    "A empresa XYZ Enterprises teve ganhos exorbitantes no último ano. Por conta disso, vai oferecer para cada funcionário um bônus salarial que é o dobro do salário. \n",
    "\n",
    "Escreva uma solução que recebe um dataframe com os salários dos funcionários e retorna um novo dataframe com o bônus salarial de cada funcionário. O dataframe de entrada terá duas colunas, uma chamada \"ID\" e outra chamada \"Salario\". O dataframe de saída terá 4 colunas, uma chamada \"ID\", outra chamada \"Salario\", outra chamada \"Bonus\" e outra chamada \"Salario_Total\". O formato resultante seguirá o exemplo:\n",
    "\n",
    "> Input:\n",
    "\n",
    "\n",
    "| ID   | Salario |\n",
    "|------|---------:|\n",
    "| 1    | 1000    |\n",
    "| 2    | 2000    |\n",
    "| 3    | 3000    |\n",
    "| 4    | 4000    |\n",
    "| 5    | 5000    |\n",
    "\n",
    "\n",
    "\n",
    "> Output:\n",
    "\n",
    "\n",
    "| ID   | Salario | Bonus | Salario_Total|\n",
    "|------|---------:|-------:|--------------:|\n",
    "| 1    | 1000    | 2000  | 3000         |\n",
    "| 2    | 2000    | 4000  | 6000         |\n",
    "| 3    | 3000    | 6000  | 9000         |\n",
    "| 4    | 4000    | 8000  | 12000        |\n",
    "| 5    | 5000    | 10000 | 15000        |\n",
    "\n",
    "\n",
    "\n",
    "> Resolução:"
   ]
  },
  {
   "cell_type": "code",
   "execution_count": 37,
   "metadata": {},
   "outputs": [],
   "source": [
    "def bonus_salarial(df: pd.DataFrame) -> pd.DataFrame:\n",
    "    ### RESOLVER A PARTIR DAQUI\n",
    "    df['Bonus'] = df['Salario'] * 2\n",
    "    df['Salario_Total'] = df['Salario'] + df['Bonus']\n",
    "    return df\n",
    "\n"
   ]
  },
  {
   "cell_type": "markdown",
   "metadata": {},
   "source": [
    "> Teste:"
   ]
  },
  {
   "cell_type": "code",
   "execution_count": 38,
   "metadata": {},
   "outputs": [
    {
     "ename": "FileNotFoundError",
     "evalue": "[Errno 2] No such file or directory: '../bases/salarios.csv'",
     "output_type": "error",
     "traceback": [
      "\u001b[1;31m---------------------------------------------------------------------------\u001b[0m",
      "\u001b[1;31mFileNotFoundError\u001b[0m                         Traceback (most recent call last)",
      "Cell \u001b[1;32mIn[38], line 3\u001b[0m\n\u001b[0;32m      1\u001b[0m \u001b[38;5;66;03m# NÃO ALTERAR, APENAS EXECUTAR O CÓDIGO.\u001b[39;00m\n\u001b[1;32m----> 3\u001b[0m salarios \u001b[38;5;241m=\u001b[39m \u001b[43mpd\u001b[49m\u001b[38;5;241;43m.\u001b[39;49m\u001b[43mread_csv\u001b[49m\u001b[43m(\u001b[49m\u001b[38;5;124;43m'\u001b[39;49m\u001b[38;5;124;43m../bases/salarios.csv\u001b[39;49m\u001b[38;5;124;43m'\u001b[39;49m\u001b[43m)\u001b[49m\n\u001b[0;32m      5\u001b[0m \u001b[38;5;28mprint\u001b[39m(bonus_salarial(salarios))\n",
      "File \u001b[1;32m~\\AppData\\Roaming\\Python\\Python312\\site-packages\\pandas\\io\\parsers\\readers.py:1026\u001b[0m, in \u001b[0;36mread_csv\u001b[1;34m(filepath_or_buffer, sep, delimiter, header, names, index_col, usecols, dtype, engine, converters, true_values, false_values, skipinitialspace, skiprows, skipfooter, nrows, na_values, keep_default_na, na_filter, verbose, skip_blank_lines, parse_dates, infer_datetime_format, keep_date_col, date_parser, date_format, dayfirst, cache_dates, iterator, chunksize, compression, thousands, decimal, lineterminator, quotechar, quoting, doublequote, escapechar, comment, encoding, encoding_errors, dialect, on_bad_lines, delim_whitespace, low_memory, memory_map, float_precision, storage_options, dtype_backend)\u001b[0m\n\u001b[0;32m   1013\u001b[0m kwds_defaults \u001b[38;5;241m=\u001b[39m _refine_defaults_read(\n\u001b[0;32m   1014\u001b[0m     dialect,\n\u001b[0;32m   1015\u001b[0m     delimiter,\n\u001b[1;32m   (...)\u001b[0m\n\u001b[0;32m   1022\u001b[0m     dtype_backend\u001b[38;5;241m=\u001b[39mdtype_backend,\n\u001b[0;32m   1023\u001b[0m )\n\u001b[0;32m   1024\u001b[0m kwds\u001b[38;5;241m.\u001b[39mupdate(kwds_defaults)\n\u001b[1;32m-> 1026\u001b[0m \u001b[38;5;28;01mreturn\u001b[39;00m \u001b[43m_read\u001b[49m\u001b[43m(\u001b[49m\u001b[43mfilepath_or_buffer\u001b[49m\u001b[43m,\u001b[49m\u001b[43m \u001b[49m\u001b[43mkwds\u001b[49m\u001b[43m)\u001b[49m\n",
      "File \u001b[1;32m~\\AppData\\Roaming\\Python\\Python312\\site-packages\\pandas\\io\\parsers\\readers.py:620\u001b[0m, in \u001b[0;36m_read\u001b[1;34m(filepath_or_buffer, kwds)\u001b[0m\n\u001b[0;32m    617\u001b[0m _validate_names(kwds\u001b[38;5;241m.\u001b[39mget(\u001b[38;5;124m\"\u001b[39m\u001b[38;5;124mnames\u001b[39m\u001b[38;5;124m\"\u001b[39m, \u001b[38;5;28;01mNone\u001b[39;00m))\n\u001b[0;32m    619\u001b[0m \u001b[38;5;66;03m# Create the parser.\u001b[39;00m\n\u001b[1;32m--> 620\u001b[0m parser \u001b[38;5;241m=\u001b[39m \u001b[43mTextFileReader\u001b[49m\u001b[43m(\u001b[49m\u001b[43mfilepath_or_buffer\u001b[49m\u001b[43m,\u001b[49m\u001b[43m \u001b[49m\u001b[38;5;241;43m*\u001b[39;49m\u001b[38;5;241;43m*\u001b[39;49m\u001b[43mkwds\u001b[49m\u001b[43m)\u001b[49m\n\u001b[0;32m    622\u001b[0m \u001b[38;5;28;01mif\u001b[39;00m chunksize \u001b[38;5;129;01mor\u001b[39;00m iterator:\n\u001b[0;32m    623\u001b[0m     \u001b[38;5;28;01mreturn\u001b[39;00m parser\n",
      "File \u001b[1;32m~\\AppData\\Roaming\\Python\\Python312\\site-packages\\pandas\\io\\parsers\\readers.py:1620\u001b[0m, in \u001b[0;36mTextFileReader.__init__\u001b[1;34m(self, f, engine, **kwds)\u001b[0m\n\u001b[0;32m   1617\u001b[0m     \u001b[38;5;28mself\u001b[39m\u001b[38;5;241m.\u001b[39moptions[\u001b[38;5;124m\"\u001b[39m\u001b[38;5;124mhas_index_names\u001b[39m\u001b[38;5;124m\"\u001b[39m] \u001b[38;5;241m=\u001b[39m kwds[\u001b[38;5;124m\"\u001b[39m\u001b[38;5;124mhas_index_names\u001b[39m\u001b[38;5;124m\"\u001b[39m]\n\u001b[0;32m   1619\u001b[0m \u001b[38;5;28mself\u001b[39m\u001b[38;5;241m.\u001b[39mhandles: IOHandles \u001b[38;5;241m|\u001b[39m \u001b[38;5;28;01mNone\u001b[39;00m \u001b[38;5;241m=\u001b[39m \u001b[38;5;28;01mNone\u001b[39;00m\n\u001b[1;32m-> 1620\u001b[0m \u001b[38;5;28mself\u001b[39m\u001b[38;5;241m.\u001b[39m_engine \u001b[38;5;241m=\u001b[39m \u001b[38;5;28;43mself\u001b[39;49m\u001b[38;5;241;43m.\u001b[39;49m\u001b[43m_make_engine\u001b[49m\u001b[43m(\u001b[49m\u001b[43mf\u001b[49m\u001b[43m,\u001b[49m\u001b[43m \u001b[49m\u001b[38;5;28;43mself\u001b[39;49m\u001b[38;5;241;43m.\u001b[39;49m\u001b[43mengine\u001b[49m\u001b[43m)\u001b[49m\n",
      "File \u001b[1;32m~\\AppData\\Roaming\\Python\\Python312\\site-packages\\pandas\\io\\parsers\\readers.py:1880\u001b[0m, in \u001b[0;36mTextFileReader._make_engine\u001b[1;34m(self, f, engine)\u001b[0m\n\u001b[0;32m   1878\u001b[0m     \u001b[38;5;28;01mif\u001b[39;00m \u001b[38;5;124m\"\u001b[39m\u001b[38;5;124mb\u001b[39m\u001b[38;5;124m\"\u001b[39m \u001b[38;5;129;01mnot\u001b[39;00m \u001b[38;5;129;01min\u001b[39;00m mode:\n\u001b[0;32m   1879\u001b[0m         mode \u001b[38;5;241m+\u001b[39m\u001b[38;5;241m=\u001b[39m \u001b[38;5;124m\"\u001b[39m\u001b[38;5;124mb\u001b[39m\u001b[38;5;124m\"\u001b[39m\n\u001b[1;32m-> 1880\u001b[0m \u001b[38;5;28mself\u001b[39m\u001b[38;5;241m.\u001b[39mhandles \u001b[38;5;241m=\u001b[39m \u001b[43mget_handle\u001b[49m\u001b[43m(\u001b[49m\n\u001b[0;32m   1881\u001b[0m \u001b[43m    \u001b[49m\u001b[43mf\u001b[49m\u001b[43m,\u001b[49m\n\u001b[0;32m   1882\u001b[0m \u001b[43m    \u001b[49m\u001b[43mmode\u001b[49m\u001b[43m,\u001b[49m\n\u001b[0;32m   1883\u001b[0m \u001b[43m    \u001b[49m\u001b[43mencoding\u001b[49m\u001b[38;5;241;43m=\u001b[39;49m\u001b[38;5;28;43mself\u001b[39;49m\u001b[38;5;241;43m.\u001b[39;49m\u001b[43moptions\u001b[49m\u001b[38;5;241;43m.\u001b[39;49m\u001b[43mget\u001b[49m\u001b[43m(\u001b[49m\u001b[38;5;124;43m\"\u001b[39;49m\u001b[38;5;124;43mencoding\u001b[39;49m\u001b[38;5;124;43m\"\u001b[39;49m\u001b[43m,\u001b[49m\u001b[43m \u001b[49m\u001b[38;5;28;43;01mNone\u001b[39;49;00m\u001b[43m)\u001b[49m\u001b[43m,\u001b[49m\n\u001b[0;32m   1884\u001b[0m \u001b[43m    \u001b[49m\u001b[43mcompression\u001b[49m\u001b[38;5;241;43m=\u001b[39;49m\u001b[38;5;28;43mself\u001b[39;49m\u001b[38;5;241;43m.\u001b[39;49m\u001b[43moptions\u001b[49m\u001b[38;5;241;43m.\u001b[39;49m\u001b[43mget\u001b[49m\u001b[43m(\u001b[49m\u001b[38;5;124;43m\"\u001b[39;49m\u001b[38;5;124;43mcompression\u001b[39;49m\u001b[38;5;124;43m\"\u001b[39;49m\u001b[43m,\u001b[49m\u001b[43m \u001b[49m\u001b[38;5;28;43;01mNone\u001b[39;49;00m\u001b[43m)\u001b[49m\u001b[43m,\u001b[49m\n\u001b[0;32m   1885\u001b[0m \u001b[43m    \u001b[49m\u001b[43mmemory_map\u001b[49m\u001b[38;5;241;43m=\u001b[39;49m\u001b[38;5;28;43mself\u001b[39;49m\u001b[38;5;241;43m.\u001b[39;49m\u001b[43moptions\u001b[49m\u001b[38;5;241;43m.\u001b[39;49m\u001b[43mget\u001b[49m\u001b[43m(\u001b[49m\u001b[38;5;124;43m\"\u001b[39;49m\u001b[38;5;124;43mmemory_map\u001b[39;49m\u001b[38;5;124;43m\"\u001b[39;49m\u001b[43m,\u001b[49m\u001b[43m \u001b[49m\u001b[38;5;28;43;01mFalse\u001b[39;49;00m\u001b[43m)\u001b[49m\u001b[43m,\u001b[49m\n\u001b[0;32m   1886\u001b[0m \u001b[43m    \u001b[49m\u001b[43mis_text\u001b[49m\u001b[38;5;241;43m=\u001b[39;49m\u001b[43mis_text\u001b[49m\u001b[43m,\u001b[49m\n\u001b[0;32m   1887\u001b[0m \u001b[43m    \u001b[49m\u001b[43merrors\u001b[49m\u001b[38;5;241;43m=\u001b[39;49m\u001b[38;5;28;43mself\u001b[39;49m\u001b[38;5;241;43m.\u001b[39;49m\u001b[43moptions\u001b[49m\u001b[38;5;241;43m.\u001b[39;49m\u001b[43mget\u001b[49m\u001b[43m(\u001b[49m\u001b[38;5;124;43m\"\u001b[39;49m\u001b[38;5;124;43mencoding_errors\u001b[39;49m\u001b[38;5;124;43m\"\u001b[39;49m\u001b[43m,\u001b[49m\u001b[43m \u001b[49m\u001b[38;5;124;43m\"\u001b[39;49m\u001b[38;5;124;43mstrict\u001b[39;49m\u001b[38;5;124;43m\"\u001b[39;49m\u001b[43m)\u001b[49m\u001b[43m,\u001b[49m\n\u001b[0;32m   1888\u001b[0m \u001b[43m    \u001b[49m\u001b[43mstorage_options\u001b[49m\u001b[38;5;241;43m=\u001b[39;49m\u001b[38;5;28;43mself\u001b[39;49m\u001b[38;5;241;43m.\u001b[39;49m\u001b[43moptions\u001b[49m\u001b[38;5;241;43m.\u001b[39;49m\u001b[43mget\u001b[49m\u001b[43m(\u001b[49m\u001b[38;5;124;43m\"\u001b[39;49m\u001b[38;5;124;43mstorage_options\u001b[39;49m\u001b[38;5;124;43m\"\u001b[39;49m\u001b[43m,\u001b[49m\u001b[43m \u001b[49m\u001b[38;5;28;43;01mNone\u001b[39;49;00m\u001b[43m)\u001b[49m\u001b[43m,\u001b[49m\n\u001b[0;32m   1889\u001b[0m \u001b[43m\u001b[49m\u001b[43m)\u001b[49m\n\u001b[0;32m   1890\u001b[0m \u001b[38;5;28;01massert\u001b[39;00m \u001b[38;5;28mself\u001b[39m\u001b[38;5;241m.\u001b[39mhandles \u001b[38;5;129;01mis\u001b[39;00m \u001b[38;5;129;01mnot\u001b[39;00m \u001b[38;5;28;01mNone\u001b[39;00m\n\u001b[0;32m   1891\u001b[0m f \u001b[38;5;241m=\u001b[39m \u001b[38;5;28mself\u001b[39m\u001b[38;5;241m.\u001b[39mhandles\u001b[38;5;241m.\u001b[39mhandle\n",
      "File \u001b[1;32m~\\AppData\\Roaming\\Python\\Python312\\site-packages\\pandas\\io\\common.py:873\u001b[0m, in \u001b[0;36mget_handle\u001b[1;34m(path_or_buf, mode, encoding, compression, memory_map, is_text, errors, storage_options)\u001b[0m\n\u001b[0;32m    868\u001b[0m \u001b[38;5;28;01melif\u001b[39;00m \u001b[38;5;28misinstance\u001b[39m(handle, \u001b[38;5;28mstr\u001b[39m):\n\u001b[0;32m    869\u001b[0m     \u001b[38;5;66;03m# Check whether the filename is to be opened in binary mode.\u001b[39;00m\n\u001b[0;32m    870\u001b[0m     \u001b[38;5;66;03m# Binary mode does not support 'encoding' and 'newline'.\u001b[39;00m\n\u001b[0;32m    871\u001b[0m     \u001b[38;5;28;01mif\u001b[39;00m ioargs\u001b[38;5;241m.\u001b[39mencoding \u001b[38;5;129;01mand\u001b[39;00m \u001b[38;5;124m\"\u001b[39m\u001b[38;5;124mb\u001b[39m\u001b[38;5;124m\"\u001b[39m \u001b[38;5;129;01mnot\u001b[39;00m \u001b[38;5;129;01min\u001b[39;00m ioargs\u001b[38;5;241m.\u001b[39mmode:\n\u001b[0;32m    872\u001b[0m         \u001b[38;5;66;03m# Encoding\u001b[39;00m\n\u001b[1;32m--> 873\u001b[0m         handle \u001b[38;5;241m=\u001b[39m \u001b[38;5;28;43mopen\u001b[39;49m\u001b[43m(\u001b[49m\n\u001b[0;32m    874\u001b[0m \u001b[43m            \u001b[49m\u001b[43mhandle\u001b[49m\u001b[43m,\u001b[49m\n\u001b[0;32m    875\u001b[0m \u001b[43m            \u001b[49m\u001b[43mioargs\u001b[49m\u001b[38;5;241;43m.\u001b[39;49m\u001b[43mmode\u001b[49m\u001b[43m,\u001b[49m\n\u001b[0;32m    876\u001b[0m \u001b[43m            \u001b[49m\u001b[43mencoding\u001b[49m\u001b[38;5;241;43m=\u001b[39;49m\u001b[43mioargs\u001b[49m\u001b[38;5;241;43m.\u001b[39;49m\u001b[43mencoding\u001b[49m\u001b[43m,\u001b[49m\n\u001b[0;32m    877\u001b[0m \u001b[43m            \u001b[49m\u001b[43merrors\u001b[49m\u001b[38;5;241;43m=\u001b[39;49m\u001b[43merrors\u001b[49m\u001b[43m,\u001b[49m\n\u001b[0;32m    878\u001b[0m \u001b[43m            \u001b[49m\u001b[43mnewline\u001b[49m\u001b[38;5;241;43m=\u001b[39;49m\u001b[38;5;124;43m\"\u001b[39;49m\u001b[38;5;124;43m\"\u001b[39;49m\u001b[43m,\u001b[49m\n\u001b[0;32m    879\u001b[0m \u001b[43m        \u001b[49m\u001b[43m)\u001b[49m\n\u001b[0;32m    880\u001b[0m     \u001b[38;5;28;01melse\u001b[39;00m:\n\u001b[0;32m    881\u001b[0m         \u001b[38;5;66;03m# Binary mode\u001b[39;00m\n\u001b[0;32m    882\u001b[0m         handle \u001b[38;5;241m=\u001b[39m \u001b[38;5;28mopen\u001b[39m(handle, ioargs\u001b[38;5;241m.\u001b[39mmode)\n",
      "\u001b[1;31mFileNotFoundError\u001b[0m: [Errno 2] No such file or directory: '../bases/salarios.csv'"
     ]
    }
   ],
   "source": [
    "# NÃO ALTERAR, APENAS EXECUTAR O CÓDIGO.\n",
    "\n",
    "salarios = pd.read_csv('../bases/salarios.csv')\n",
    "\n",
    "print(bonus_salarial(salarios))"
   ]
  },
  {
   "cell_type": "markdown",
   "metadata": {},
   "source": [
    "### 5)\n",
    "\n",
    "Em um cadastro de usuários, temos algumas linhas duplicadas na coluna \"Email\". \n",
    "\n",
    "Escreva uma solução que recebe um dataframe com os usuários e retorna um novo dataframe sem as linhas duplicadas, mantendo a linha com a primeira aparição da duplicata. O dataframe de entrada terá três colunas, uma chamada \"ID\", uma chamada \"Nome\" e outra chamada \"Email\". O dataframe de saída terá as mesmas colunas e não terá linhas duplicadas. O formato resultante seguirá o exemplo:\n",
    "\n",
    "> Input:\n",
    "\n",
    "\n",
    "| ID   | Nome  | Email             |\n",
    "|------|-------|-------------------|\n",
    "| 1    | Joao  | joao@fgv.br       |\n",
    "| 2    | Maria | maria@fgv.br      | \n",
    "| 3    | Jose  | jose@fgv.br       |\n",
    "| 4    | Ana   | maria@fgv.br      |\n",
    "| 5    | Pedro | pedro@fgv.br      |\n",
    "\n",
    "\n",
    "> Output:\n",
    "\n",
    "\n",
    "| ID   | Nome  | Email             |\n",
    "|------|-------|-------------------|\n",
    "| 1    | Joao  | joao@fgv.br       |\n",
    "| 2    | Maria | maria@fgv.br      | \n",
    "| 3    | Jose  | jose@fgv.br       |\n",
    "| 5    | Pedro | pedro@fgv.br      |\n",
    "\n",
    "\n",
    "> Resolução:"
   ]
  },
  {
   "cell_type": "code",
   "execution_count": null,
   "metadata": {},
   "outputs": [],
   "source": [
    "def remove_duplicatas(df: pd.DataFrame) -> pd.DataFrame:\n",
    "    ### RESOLVER A PARTIR DAQUI\n",
    "    df1 = df.drop_duplicates(subset=['Email'],keep='first')\n",
    "    return df1"
   ]
  },
  {
   "cell_type": "markdown",
   "metadata": {},
   "source": [
    "> Teste:"
   ]
  },
  {
   "cell_type": "code",
   "execution_count": null,
   "metadata": {},
   "outputs": [],
   "source": [
    "# NÃO ALTERAR, APENAS EXECUTAR O CÓDIGO.\n",
    "\n",
    "emails = pd.DataFrame({\n",
    "    'ID': range(1, 6),\n",
    "    'Nome': ['João', 'Maria', 'José', 'Ana', 'Pedro'],\n",
    "    'Email': ['joao@fgv.br', 'maria@fgv.br', 'jose@fgv.br', 'maria@fgv.br', 'pedro@fgv.br']  \n",
    "})\n",
    "\n",
    "print(remove_duplicatas(emails))"
   ]
  },
  {
   "cell_type": "markdown",
   "metadata": {},
   "source": [
    "### 6)\n",
    "\n",
    "Existem algumas linhas em um dataframe que possuem valores nulos. \n",
    "\n",
    "Escreva uma solução que recebe um dataframe com valores nulos na coluna Email e retorna um novo dataframe sem as linhas que possuem valores nulos. Aproveite e renomeie a coluna \"Nome\" para \"Primeiro Nome\". O dataframe de entrada terá três colunas, uma chamada \"ID\", uma chamada \"Nome\" e outra chamada \"Email\". O dataframe de saída terá \"ID\", \"Primeiro Nome\" e \"Email\" e não terá linhas com valores nulos na coluna Email. O formato resultante seguirá o exemplo:\n",
    "\n",
    "> Input:\n",
    "\n",
    "| ID   | Nome  | Email             |\n",
    "|------|-------|-------------------|\n",
    "| 1    | Joao  | joao@fgv.br       |\n",
    "| 2    | Maria | maria@fgv.br      | \n",
    "| 3    | None  | jose@fgv.br       |\n",
    "| 4    | Ana   | None              |\n",
    "| 5    | Pedro | pedro@fgv.br      |\n",
    "\n",
    "\n",
    "\n",
    "> Output:\n",
    "\n",
    "| ID   | Primeiro Nome | Email        |\n",
    "|------|---------------|--------------|\n",
    "| 1    | Joao          | joao@fgv.br  |\n",
    "| 2    | Maria         | maria@fgv.br | \n",
    "| 3    | None          | jose@fgv.br  |\n",
    "| 5    | Pedro         | pedro@fgv.br |\n",
    "\n",
    "\n",
    "\n",
    "> Resolução:"
   ]
  },
  {
   "cell_type": "code",
   "execution_count": null,
   "metadata": {},
   "outputs": [],
   "source": [
    "def remove_NA(df: pd.DataFrame) -> pd.DataFrame:\n",
    "    ### RESOLVER A PARTIR DAQUI\n",
    "    df = df.dropna(subset=['Email'])\n",
    "    df = df.rename(columns={'Nome': 'Primeiro Nome'})\n",
    "    return df"
   ]
  },
  {
   "cell_type": "markdown",
   "metadata": {},
   "source": [
    "> Teste:"
   ]
  },
  {
   "cell_type": "code",
   "execution_count": null,
   "metadata": {},
   "outputs": [],
   "source": [
    "# NÃO ALTERAR, APENAS EXECUTAR O CÓDIGO.\n",
    "\n",
    "emails = pd.DataFrame({\n",
    "    'ID': range(1, 6),\n",
    "    'Nome': ['João', 'Maria', None, 'Ana', 'Pedro'],\n",
    "    'Email': ['joao@fgv.br', 'maria@fgv.br', 'jose@fgv.br', None, 'pedro@fgv.br']  \n",
    "})\n",
    "\n",
    "print(remove_NA(emails))"
   ]
  },
  {
   "cell_type": "markdown",
   "metadata": {},
   "source": [
    "### 7)\n",
    "Desenvolva uma solução que recebe um dataframe com notas de alunos em formato fracionário (float) e converte para inteiro. O dataframe de entrada terá duas colunas, uma chamada \"ID\", uma chamada \"Nota\". O dataframe de saída terá as mesmas colunas e as notas convertidas para inteiro. O formato resultante seguirá o exemplo:\n",
    "\n",
    "> Input:\n",
    "\n",
    "\n",
    "| ID   | Nota  |\n",
    "|------|-------:|\n",
    "| 1    | 8.0   |\n",
    "| 2    | 9.0   |\n",
    "| 3    | 7.0   |\n",
    "| 4    | 6.0   |\n",
    "\n",
    "\n",
    "> Output:\n",
    "\n",
    "\n",
    "| ID   | Nota  |\n",
    "|------|-------:|\n",
    "| 1    | 8     |\n",
    "| 2    | 9     |\n",
    "| 3    | 7     |\n",
    "| 4    | 6     |\n",
    "\n",
    "`\n",
    "\n",
    "> Resolução:"
   ]
  },
  {
   "cell_type": "code",
   "execution_count": null,
   "metadata": {},
   "outputs": [],
   "source": [
    "def convertendo_tipos(df: pd.DataFrame) -> pd.DataFrame:\n",
    "    ### RESOLVER A PARTIR DAQUI\n",
    "    df['Nota'] = df['Nota'].astype(int)\n",
    "    return df"
   ]
  },
  {
   "cell_type": "markdown",
   "metadata": {},
   "source": [
    "> Teste:"
   ]
  },
  {
   "cell_type": "code",
   "execution_count": null,
   "metadata": {},
   "outputs": [],
   "source": [
    "df = pd.DataFrame({\n",
    "    'ID': range(1, 5),\n",
    "    'Nota': [8.0, 9.0, 7.0, 6.0]}\n",
    ")\n",
    "\n",
    "df = convertendo_tipos(df)\n",
    "df.dtypes"
   ]
  },
  {
   "cell_type": "markdown",
   "metadata": {},
   "source": [
    "### 8)\n",
    "\n",
    "A base utilizada possui valores nulos em algumas linhas da coluna Vendas. Se um produto não foi vendido, nenhum valor foi inserido na base,  o que na prática resulta em um valor nulo, mas na teoria, o valor é zero. Corrija esses valores nulos na coluna Vendas e Estoque, substituindo seu valor por zero. O dataframe de entrada terá três colunas, uma chamada \"Produto\", uma chamada \"Estoque\" e outra chamada \"Vendas\". O dataframe de saída terá as mesmas colunas e os valores nulos substituídos por zero. O formato resultante seguirá o exemplo:\n",
    "\n",
    "> Input:\n",
    "\n",
    "\n",
    "\n",
    "| Produto  | Estoque | Vendas |\n",
    "|----------|---------|--------|\n",
    "| Produto1 | 10      | 5      |\n",
    "| Produto2 | 20      | None   |\n",
    "| Produto3 | 30      | 10     |\n",
    "| Produto4 | 40      | None   |\n",
    "| None     | None    | 15     |\n",
    "\n",
    "\n",
    "\n",
    "> Output:\n",
    "\n",
    "| Produto  | Estoque | Vendas |\n",
    "|----------|---------|--------|\n",
    "| Produto1 | 10      | 5      |\n",
    "| Produto2 | 20      | 0      |\n",
    "| Produto3 | 30      | 10     |\n",
    "| Produto4 | 40      | 0      |\n",
    "| None     | 0       | 15     |\n",
    "\n",
    "> Resolução:"
   ]
  },
  {
   "cell_type": "code",
   "execution_count": null,
   "metadata": {},
   "outputs": [],
   "source": [
    "def corrigir_valores_nulos(df: pd.DataFrame) -> pd.DataFrame:\n",
    "    ### RESOLVER A PARTIR DAQUI\n",
    "    df = df.fillna(0)\n",
    "    return df"
   ]
  },
  {
   "cell_type": "markdown",
   "metadata": {},
   "source": [
    "> Teste:"
   ]
  },
  {
   "cell_type": "code",
   "execution_count": null,
   "metadata": {},
   "outputs": [],
   "source": [
    "# NÃO ALTERAR, APENAS EXECUTAR O CÓDIGO.\n",
    "import pandas as pd \n",
    "\n",
    "df = pd.DataFrame({\n",
    "    'Produto': ['Produto' + str(i) for i in range(5)],\n",
    "    'Estoque': [10, 20, 30, 40, None],\n",
    "    'Vendas': [5, None, 10, None, 15]})\n",
    "\n",
    "print(corrigir_valores_nulos(df))"
   ]
  },
  {
   "cell_type": "markdown",
   "metadata": {},
   "source": [
    "### 9)\n",
    "\n",
    "A empresa XYZ Enterprises possui dois dataframes com informações de funcionários. O primeiro dataframe possui as colunas \"ID\", \"Nome\" e \"Salario\". O segundo dataframe possui as colunas \"ID\" e \"Cargo\". Todos os funcionários aparecem em ambos os dataframes, mas em ordem diferente. Una as duas bases em um único dataframe, mantendo a ordem do primeiro dataframe. O dataframe de entrada terá as seguintes colunas:\n",
    "\n",
    "Dataframe 1:\n",
    "\n",
    "| ID   | Nome  | Salario |\n",
    "|------|-------|---------:|\n",
    "| 1    | Joao  | 1000    |\n",
    "| 2    | Maria | 2000    |\n",
    "| 3    | Jose  | 3000    |\n",
    "| 4    | Ana   | 4000    |\n",
    "| 5    | Pedro | 5000    |\n",
    "\n",
    "\n",
    "\n",
    "Dataframe 2:\n",
    "\n",
    "\n",
    "| ID   | Cargo |\n",
    "|------|-------|\n",
    "| 3    | Analista |\n",
    "| 1    | Estagiario |\n",
    "| 5    | Gerente |\n",
    "| 2    | Coordenador |\n",
    "| 4    | Diretor |\n",
    "\n",
    "\n",
    "O dataframe de saída terá as seguintes colunas:\n",
    "\n",
    "\n",
    "\n",
    "| ID   | Nome  | Salario | Cargo      |\n",
    "|------|-------|---------:|------------|\n",
    "| 1    | Joao  | 1000    | Estagiario |\n",
    "| 2    | Maria | 2000    | Coordenador|\n",
    "| 3    | Jose  | 3000    | Analista   |\n",
    "| 4    | Ana   | 4000    | Diretor    |\n",
    "| 5    | Pedro | 5000    | Gerente    |\n",
    "\n",
    "\n",
    "\n",
    "> Resolução:"
   ]
  },
  {
   "cell_type": "code",
   "execution_count": null,
   "metadata": {},
   "outputs": [],
   "source": [
    "def junta_dfs(df1: pd.DataFrame, df2: pd.DataFrame) -> pd.DataFrame:\n",
    "    ### RESOLVER A PARTIR DAQUI\n",
    "    df = pd.merge(df1, df2, on='ID', how='outer')\n",
    "    return df"
   ]
  },
  {
   "cell_type": "markdown",
   "metadata": {},
   "source": [
    "> Teste:"
   ]
  },
  {
   "cell_type": "code",
   "execution_count": null,
   "metadata": {},
   "outputs": [],
   "source": [
    "# NÃO ALTERAR, APENAS EXECUTAR O CÓDIGO.\n",
    "\n",
    "df1 = pd.DataFrame({\n",
    "    'ID': range(1, 6),\n",
    "    'Nome': ['João', 'Maria', 'José', 'Ana', 'Pedro'],\n",
    "    'Salario': [1000, 2000, 3000, 4000, 5000],\n",
    "})\n",
    "\n",
    "df2 = pd.DataFrame({\n",
    "    'ID': [3, 1, 5, 2, 4],\n",
    "    'Cargo': ['Analista', 'Estagiário', 'Gerente', 'Coordenador', 'Diretor']})\n",
    "\n",
    "print(junta_dfs(df1, df2))"
   ]
  },
  {
   "cell_type": "markdown",
   "metadata": {},
   "source": [
    "### 10)\n",
    "\n",
    "Temos uma tabela com informações da temperatura média mensal em duas cidades: Rio de Janeiro e Moscou. Em cada linha, temos uma cidade, um mês e uma temperatura. \n",
    "\n",
    "Escreva uma solução que faça um pivot nos dados, fazendo com que cada linha represente um mês e a temperatura daquele mês, e cada coluna seja uma cidade. \n",
    "\n",
    "O dataframe de entrada terá as seguintes colunas:\n",
    "\n",
    "| city           | month    | temperature |\n",
    "|----------------|----------|-------------:|\n",
    "| Rio de Janeiro | Janeiro  | 32          |\n",
    "| Rio de Janeiro | Fevereiro| 32          |\n",
    "| Rio de Janeiro | Março    | 30          |\n",
    "| Rio de Janeiro | Abril    | 28          |\n",
    "| Rio de Janeiro | Maio     | 27          |\n",
    "| Moscou         | Janeiro  | -15         |\n",
    "| Moscou         | Fevereiro| -10         |\n",
    "| Moscou         | Março    | -6          |\n",
    "| Moscou         | Abril    | 6           |\n",
    "| Moscou         | Maio     | 8           |\n",
    "\n",
    "\n",
    "\n",
    "O dataframe de saída terá as seguintes colunas:\n",
    "\n",
    "| month    | Rio de Janeiro | Moscou |\n",
    "|----------|----------------:|--------:|\n",
    "| Janeiro  | 32             | -15    |\n",
    "| Fevereiro| 32             | -10    |\n",
    "| Março    | 30             | -6     |\n",
    "| Abril    | 28             | 6      |\n",
    "| Maio     | 27             | 8      |\n",
    "\n",
    "\n",
    ">\n",
    "\n",
    "> Resolução:"
   ]
  },
  {
   "cell_type": "code",
   "execution_count": null,
   "metadata": {},
   "outputs": [],
   "source": [
    "def pivotar(df: pd.DataFrame) -> pd.DataFrame:\n",
    "    ### RESOLVER A PARTIR DAQUI\n",
    "    df = df.pivot(index='month', columns='city')\n",
    "    return df"
   ]
  },
  {
   "cell_type": "markdown",
   "metadata": {},
   "source": [
    "> Teste:"
   ]
  },
  {
   "cell_type": "code",
   "execution_count": null,
   "metadata": {},
   "outputs": [],
   "source": [
    "# NÃO ALTERAR, APENAS EXECUTAR O CÓDIGO.\n",
    "\n",
    "df = pd.DataFrame({\n",
    "    'city': ['Rio de Janeiro'] * 5 + ['Moscou'] * 5,\n",
    "    'month': ['Janeiro', 'Fevereiro', 'Março', 'Abril', 'Maio'] * 2,\n",
    "    'temperature': [32, 32, 30, 28, 27, -15, -10, -6, 6, 8],\n",
    "})\n",
    "\n",
    "print(pivotar(df))"
   ]
  },
  {
   "cell_type": "markdown",
   "metadata": {},
   "source": [
    "### 11) \n",
    "\n",
    "Dada a seguinte tabela, desenvolva uma solução que:\n",
    "- Filtre os animais com mais de 2 anos de idade e mais de 100kg\n",
    "- Organize o dataframe de acordo com a idade do animal, em ordem decrescente\n",
    "- Retorne o nome dos animais que atendem aos critérios acima, no formato dataframe.\n",
    "\n",
    "> Input:\n",
    "\n",
    "| Animal | Idade | Peso |\n",
    "|--------|-------:|------:|\n",
    "| Elefante | 3 | 400 |\n",
    "| Leão | 1 | 160 |\n",
    "| Zebra | 2 | 120 |\n",
    "| Girafa | 4 | 200 |\n",
    "| Macaco | 1 | 10 |\n",
    "| Cobra | 2 | 5 |\n",
    "| Urso | 3 | 150 |\n",
    "| Rinoceronte | 5 | 450 |\n",
    "| Hipopótamo | 4 | 300 |\n",
    "\n",
    "> Output:\n",
    "\n",
    "| Animal | \n",
    "|--------| \n",
    "| Rinoceronte | \n",
    "| Elefante | \n",
    "| Hipopótamo | \n",
    "| Girafa | \n",
    "| Urso | \n",
    "\n",
    "Resolva tudo em apenas UMA linha de função.\n",
    "\n",
    "> Resolução:"
   ]
  },
  {
   "cell_type": "code",
   "execution_count": null,
   "metadata": {},
   "outputs": [],
   "source": [
    "def sort_animais(df: pd.DataFrame) -> pd.DataFrame:\n",
    "    ### RESOLVER A PARTIR DAQUI\n",
    "    df1 = df[(df.Idade > 2) & (df.Peso > 100)].sort_values(by=['Idade'], ascending=False)['Animal']\n",
    "    return df1"
   ]
  },
  {
   "cell_type": "markdown",
   "metadata": {},
   "source": [
    "> Teste:"
   ]
  },
  {
   "cell_type": "code",
   "execution_count": null,
   "metadata": {},
   "outputs": [],
   "source": [
    "# NÃO ALTERAR, APENAS EXECUTAR O CÓDIGO.\n",
    "\n",
    "animais = pd.DataFrame({\n",
    "    'Animal': ['Elefante', 'Leão', 'Zebra', 'Girafa', 'Macaco', 'Cobra', 'Urso', 'Rinoceronte', 'Hipopótamo'],\n",
    "    'Idade': [3, 1, 2, 4, 1, 2, 3, 5, 4],\n",
    "    'Peso': [400, 160, 120, 200, 10, 5, 150, 450, 300]\n",
    "})\n",
    "\n",
    "print(sort_animais(animais))"
   ]
  },
  {
   "cell_type": "markdown",
   "metadata": {},
   "source": [
    "## Desafios\n",
    "\n",
    "### 1) \n",
    "\n",
    "Você receberá dois números inteiros, n e m. Retorne um inteiro que siga as seguintes regras:\n",
    "\n",
    "- num1: A soma de todos os inteiros no intervalo de 1 a n, inclusive n, que não são divisíveis por m.\n",
    "- num2: A soma de todos os inteiros no intervalo de 1 a n, inclusive n, que são divisíveis por m.\n",
    "\n",
    "Retorne num1 - num2.\n",
    "\n",
    "Exemplo: \n",
    "  - Sendo n = 10 e m = 3, os inteiros de 1 a 10 que não são divisíveis por 3 são [1, 2, 4, 5, 7, 8, 10]. Os que são divisíveis por 3 são [3, 6, 9]. A soma de num1 é 37 (1+2+4+5+7+8+10) e a soma de num2 é 18 (3+6+9). O resultado final é 37 - 18 = 19."
   ]
  },
  {
   "cell_type": "code",
   "execution_count": null,
   "metadata": {},
   "outputs": [],
   "source": [
    "def diferenca_somas(n: int, m: int) -> int:\n",
    "    ### RESOLVER A PARTIR DAQUI\n",
    "    num1 = 0\n",
    "    num2 = 0\n",
    "    for i in range(n):\n",
    "        if ((i+1)%m)!=0:\n",
    "            num1 += (i+1)\n",
    "        else:\n",
    "            num2 += (i+1)\n",
    "    \n",
    "    return num1-num2\n",
    "\n",
    "# NÃO ALTERAR A PARTIR DAQUI, APENAS EXECUTAR O CÓDIGO.\n",
    "print(diferenca_somas(10, 3)) # 19\n",
    "print(diferenca_somas(5, 6)) # 15\n",
    "print(diferenca_somas(5, 1)) # -15"
   ]
  },
  {
   "cell_type": "markdown",
   "metadata": {},
   "source": [
    "### 2) \n",
    "\n",
    "Numerais romanos são representados por sete diferentes símbolos: I, V, X, L, C, D e M.\n",
    "\n",
    "| Símbolo | Valor |\n",
    "|---------|-------|\n",
    "| I       | 1     |\n",
    "| V       | 5     |\n",
    "| X       | 10    |\n",
    "| L       | 50    |\n",
    "| C       | 100   |\n",
    "| D       | 500   |\n",
    "| M       | 1000  |\n",
    "\n",
    "Por exemplo, II é 2, pois somamos 1 + 1. XII é 12, pois somamos 10 + 1 + 1. \n",
    "\n",
    "Os numerais romanos são escritos da esquerda para a direita, de forma que o maior valor está sempre à esquerda. No entanto, em alguns casos, o numeral é escrito de forma que o valor menor está à esquerda. Nesse caso, o valor menor é subtraído do valor maior. Por exemplo, IV é 4, pois 5 - 1. O mesmo princípio se aplica ao número 9, que é IX: -1 + 10 = 9. \n",
    "\n",
    "Existem seis casos em que a subtração é usada:\n",
    "\n",
    "- I pode ser colocado antes de V (5) e X (10) para fazer 4 e 9.\n",
    "- X pode ser colocado antes de L (50) e C (100) para fazer 40 e 90.\n",
    "- C pode ser colocado antes de D (500) e M (1000) para fazer 400 e 900.\n",
    "\n",
    "Dado um numeral romano, desenvolva uma solução que o converte para um número inteiro. \n",
    "\n",
    "> Resolução:\n",
    "  "
   ]
  },
  {
   "cell_type": "code",
   "execution_count": null,
   "metadata": {},
   "outputs": [],
   "source": [
    "def romanToInt(s: str) -> int:\n",
    "    ### RESOLVER A PARTIR DAQUI\n",
    "\n",
    "print(romanToInt('MCMXCIV')) # 1994\n",
    "print(romanToInt('LVIII')) # 58\n",
    "print(romanToInt('IX')) # 9\n",
    "print(romanToInt('III')) # 3"
   ]
  },
  {
   "cell_type": "code",
   "execution_count": null,
   "metadata": {},
   "outputs": [],
   "source": []
  }
 ],
 "metadata": {
  "kernelspec": {
   "display_name": ".venv",
   "language": "python",
   "name": "python3"
  },
  "language_info": {
   "codemirror_mode": {
    "name": "ipython",
    "version": 3
   },
   "file_extension": ".py",
   "mimetype": "text/x-python",
   "name": "python",
   "nbconvert_exporter": "python",
   "pygments_lexer": "ipython3",
   "version": "3.12.4"
  }
 },
 "nbformat": 4,
 "nbformat_minor": 2
}
